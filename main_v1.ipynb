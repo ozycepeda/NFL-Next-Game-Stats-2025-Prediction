{
 "cells": [
  {
   "cell_type": "markdown",
   "id": "b53335a7",
   "metadata": {},
   "source": [
    "# NFL Next Gen Stats - data download\n",
    "\n",
    "Alejandro Ozymandias Cepeda Beltran"
   ]
  },
  {
   "cell_type": "code",
   "execution_count": null,
   "id": "73341a13",
   "metadata": {},
   "outputs": [
    {
     "name": "stderr",
     "output_type": "stream",
     "text": [
      "2025-10-19 08:59:17,944 - INFO - Token de API de Kaggle configurado de forma segura.\n",
      "2025-10-19 08:59:17,946 - INFO - Descargando datos de la competencia: 'nfl-big-data-bowl-2026-prediction'...\n"
     ]
    },
    {
     "name": "stderr",
     "output_type": "stream",
     "text": [
      "2025-10-19 08:59:24,004 - INFO - Descomprimiendo 'nfl-big-data-bowl-2026-prediction.zip' en el directorio 'data'...\n",
      "2025-10-19 08:59:28,776 - INFO - ¡Proceso completado! Los datos están listos en la carpeta 'data'.\n"
     ]
    },
    {
     "ename": "",
     "evalue": "",
     "output_type": "error",
     "traceback": [
      "\u001b[1;31mThe Kernel crashed while executing code in the current cell or a previous cell. \n",
      "\u001b[1;31mPlease review the code in the cell(s) to identify a possible cause of the failure. \n",
      "\u001b[1;31mClick <a href='https://aka.ms/vscodeJupyterKernelCrash'>here</a> for more info. \n",
      "\u001b[1;31mView Jupyter <a href='command:jupyter.viewOutput'>log</a> for further details."
     ]
    }
   ],
   "source": [
    "import os\n",
    "import subprocess\n",
    "import zipfile\n",
    "from pathlib import Path\n",
    "import logging\n",
    "\n",
    "# --- Configuración de logging para una salida clara ---\n",
    "logging.basicConfig(level=logging.INFO, format='%(asctime)s - %(levelname)s - %(message)s')\n",
    "\n",
    "def download_kaggle_competition_data(competition_slug: str, kaggle_json_path: str, download_dir: str = \"data\"):\n",
    "    \"\"\"\n",
    "    Descarga y descomprime los datos de una competencia de Kaggle.\n",
    "\n",
    "    Esta función realiza los siguientes pasos:\n",
    "    2. Configura el token de API de Kaggle de forma segura.\n",
    "    3. Descarga los archivos de la competencia especificada.\n",
    "    4. Descomprime el archivo .zip en un directorio de destino.\n",
    "\n",
    "    Args:\n",
    "        competition_slug (str): El identificador de la competencia en Kaggle.\n",
    "                                (p. ej., 'nfl-big-data-bowl-2026-prediction').\n",
    "        kaggle_json_path (str): La ruta al archivo 'kaggle.json' que descargaste.\n",
    "        download_dir (str): El nombre del directorio donde se guardarán los datos.\n",
    "                            Por defecto es 'data'.\n",
    "\n",
    "    Returns:\n",
    "        bool: True si la operación fue exitosa, False en caso contrario.\n",
    "    \"\"\"\n",
    "    try:\n",
    "        # --- 2. Configurar el token de API ---\n",
    "        kaggle_api_path = Path.home() / \".kaggle\"\n",
    "        kaggle_api_path.mkdir(parents=True, exist_ok=True)\n",
    "        \n",
    "        token_source = Path(kaggle_json_path)\n",
    "        if not token_source.is_file():\n",
    "            logging.error(f\"El archivo del token 'kaggle.json' no se encontró en: {kaggle_json_path}\")\n",
    "            logging.error(\"Por favor, descárgalo desde tu cuenta de Kaggle y proporciona la ruta correcta.\")\n",
    "            return False\n",
    "            \n",
    "        token_dest = kaggle_api_path / \"kaggle.json\"\n",
    "        token_dest.write_text(token_source.read_text())\n",
    "        \n",
    "        # Establecer permisos seguros (solo lectura/escritura para el propietario)\n",
    "        os.chmod(token_dest, 0o600)\n",
    "        logging.info(\"Token de API de Kaggle configurado de forma segura.\")\n",
    "\n",
    "        # --- 3. Descargar los datos ---\n",
    "        logging.info(f\"Descargando datos de la competencia: '{competition_slug}'...\")\n",
    "        # El comando de Kaggle descarga en el directorio de trabajo actual\n",
    "        subprocess.run(\n",
    "            [\"kaggle\", \"competitions\", \"download\", \"-c\", competition_slug],\n",
    "            check=True\n",
    "        )\n",
    "        \n",
    "        zip_filename = f\"{competition_slug}.zip\"\n",
    "        if not Path(zip_filename).is_file():\n",
    "            logging.error(f\"La descarga falló. No se encontró el archivo '{zip_filename}'.\")\n",
    "            logging.error(\"Asegúrate de haber aceptado las reglas de la competencia en el sitio web de Kaggle.\")\n",
    "            return False\n",
    "\n",
    "        # --- 4. Descomprimir los datos ---\n",
    "        output_path = Path(download_dir)\n",
    "        output_path.mkdir(parents=True, exist_ok=True)\n",
    "        \n",
    "        logging.info(f\"Descomprimiendo '{zip_filename}' en el directorio '{output_path}'...\")\n",
    "        with zipfile.ZipFile(zip_filename, 'r') as zip_ref:\n",
    "            zip_ref.extractall(output_path)\n",
    "        \n",
    "        # Limpiar el archivo .zip después de la extracción\n",
    "        Path(zip_filename).unlink()\n",
    "        \n",
    "        logging.info(\"¡Proceso completado! Los datos están listos en la carpeta '%s'.\", output_path)\n",
    "        return True\n",
    "\n",
    "    except subprocess.CalledProcessError as e:\n",
    "        logging.error(f\"Falló un comando externo: {e}\")\n",
    "        logging.error(\"Revisa si el 'competition_slug' es correcto y si aceptaste las reglas de la competencia.\")\n",
    "        return False\n",
    "    except Exception as e:\n",
    "        logging.error(f\"Ocurrió un error inesperado: {e}\")\n",
    "        return False\n",
    "\n",
    "# --- Ejemplo de uso ---\n",
    "if __name__ == \"__main__\":\n",
    "    # Reemplaza con el identificador de la competencia que te interesa\n",
    "    COMPETITION_NAME = \"nfl-big-data-bowl-2026-prediction\"\n",
    "    \n",
    "    # Reemplaza con la ruta donde guardaste tu archivo kaggle.json\n",
    "    KAGGLE_TOKEN_FILE_PATH = \"D:/codigos/kaggle/kaggle.json\"\n",
    "\n",
    "    download_kaggle_competition_data(\n",
    "        competition_slug=COMPETITION_NAME,\n",
    "        kaggle_json_path=KAGGLE_TOKEN_FILE_PATH\n",
    "    )\n"
   ]
  }
 ],
 "metadata": {
  "kernelspec": {
   "display_name": "NFL_NGS",
   "language": "python",
   "name": "python3"
  },
  "language_info": {
   "codemirror_mode": {
    "name": "ipython",
    "version": 3
   },
   "file_extension": ".py",
   "mimetype": "text/x-python",
   "name": "python",
   "nbconvert_exporter": "python",
   "pygments_lexer": "ipython3",
   "version": "3.14.0"
  }
 },
 "nbformat": 4,
 "nbformat_minor": 5
}
