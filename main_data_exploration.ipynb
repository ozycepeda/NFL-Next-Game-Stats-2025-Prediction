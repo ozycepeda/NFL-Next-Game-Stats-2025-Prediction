{
 "cells": [
  {
   "cell_type": "markdown",
   "id": "a8dbb268",
   "metadata": {},
   "source": [
    "# NFL prediction, Data exploration \n",
    "\n",
    "Alejandro Ozymandias Cepeda Beltran"
   ]
  },
  {
   "cell_type": "code",
   "execution_count": null,
   "id": "edab3bd7",
   "metadata": {},
   "outputs": [],
   "source": [
    "import pandas as pd\n",
    "import os\n",
    "\n",
    "data_dir = 'data/train'\n",
    "\n",
    "try:\n",
    "    files_in_data_dir = os.listdir(data_dir)\n",
    "    print(f\"Archivos encontrados en el directorio '{data_dir}':\")\n",
    "    print(files_in_data_dir)\n",
    "except FileNotFoundError:\n",
    "    print(f\"Error: El directorio '{data_dir}' no fue encontrado.\")\n",
    "    files_in_data_dir = []\n",
    "\n",
    "files_to_explore = ['input_2023_w01.csv']\n",
    "\n",
    "if files_in_data_dir:\n",
    "    for filename in files_to_explore:\n",
    "        if filename in files_in_data_dir:\n",
    "            print(f\"\\n\" + \"=\"*50)\n",
    "            print(f\"Análisis del archivo: {filename}\")\n",
    "            print(\"=\"*50)\n",
    "            \n",
    "            file_path = os.path.join(data_dir, filename)\n",
    "            df = pd.read_csv(file_path)\n",
    "            datos_juego_1 = df.copy()\n",
    "            \n",
    "            print(\"\\n--- 1. Primeras 5 filas (head) ---\")\n",
    "            display(df.head())\n",
    "            \n",
    "            print(\"\\n--- 2. Información del DataFrame (.info) ---\")\n",
    "            df.info()\n",
    "            \n",
    "            print(\"\\n--- 3. Estadísticas Descriptivas (.describe) ---\")\n",
    "            display(df.describe())\n",
    "            \n",
    "            print(\"\\n--- 4. Conteo de valores nulos por columna ---\")\n",
    "            missing_values = df.isnull().sum()\n",
    "            print(missing_values[missing_values > 0])\n",
    "        else:\n",
    "            print(f\"\\nAdvertencia: El archivo '{filename}' no se encontró en el directorio '{data_dir}'.\")"
   ]
  },
  {
   "cell_type": "code",
   "execution_count": null,
   "id": "visualizacion_animada",
   "metadata": {},
   "outputs": [],
   "source": [
    "import matplotlib.pyplot as plt\n",
    "from matplotlib.animation import FuncAnimation\n",
    "from IPython.display import HTML\n",
    "\n",
    "# Seleccionar una jugada específica\n",
    "game_id = datos_juego_1['game_id'].iloc[0]\n",
    "play_id = datos_juego_1['play_id'].iloc[0]\n",
    "jugada = datos_juego_1[(datos_juego_1['game_id'] == game_id) & (datos_juego_1['play_id'] == play_id)]\n",
    "\n",
    "# Configurar figura\n",
    "fig, ax = plt.subplots(figsize=(12, 6))\n",
    "ax.set_xlim(0, 120)\n",
    "ax.set_ylim(0, 53.3)\n",
    "ax.set_facecolor('green')\n",
    "ax.set_title(f'Jugada {play_id} - Game {game_id}')\n",
    "\n",
    "# Dibujar líneas del campo\n",
    "for x in range(10, 111, 10):\n",
    "    ax.axvline(x, color='white', linewidth=1, alpha=0.5)\n",
    "\n",
    "scatter = ax.scatter([], [], s=200, c=[], cmap='coolwarm', edgecolors='white', linewidths=2)\n",
    "frame_text = ax.text(5, 50, '', color='white', fontsize=12, weight='bold')\n",
    "\n",
    "def animate(frame):\n",
    "    frame_data = jugada[jugada['frame_id'] == frame]\n",
    "    scatter.set_offsets(frame_data[['x', 'y']].values)\n",
    "    colors = [1 if side == 'home' else 0 for side in frame_data['player_side']]\n",
    "    scatter.set_array(colors)\n",
    "    frame_text.set_text(f'Frame: {frame}/25')\n",
    "    return scatter, frame_text\n",
    "\n",
    "frames = sorted(jugada['frame_id'].unique())[:25]\n",
    "anim = FuncAnimation(fig, animate, frames=frames, interval=100, blit=True)\n",
    "plt.close()\n",
    "\n",
    "HTML(anim.to_jshtml())"
   ]
  }
 ],
 "metadata": {
  "kernelspec": {
   "display_name": "NFL_NGS",
   "language": "python",
   "name": "python3"
  },
  "language_info": {
   "codemirror_mode": {
    "name": "ipython",
    "version": 3
   },
   "file_extension": ".py",
   "mimetype": "text/x-python",
   "name": "python",
   "nbconvert_exporter": "python",
   "pygments_lexer": "ipython3",
   "version": "3.14.0"
  }
 },
 "nbformat": 4,
 "nbformat_minor": 5
}
